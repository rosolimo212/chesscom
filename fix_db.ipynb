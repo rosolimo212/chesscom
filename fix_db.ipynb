{
 "cells": [
  {
   "cell_type": "code",
   "execution_count": 1,
   "metadata": {},
   "outputs": [],
   "source": [
    "# coding: utf-8\n",
    "\n",
    "# our all\n",
    "import numpy as np\n",
    "import pandas as pd\n",
    "\n",
    "# usefull pandas settings\n",
    "pd.set_option('display.max_rows', 45000)\n",
    "pd.set_option('display.max_columns', 50000)\n",
    "pd.set_option('display.max_colwidth', 5000)\n",
    "\n",
    "# for API working and current time\n",
    "import requests\n",
    "import datetime\n",
    "import json\n",
    "\n",
    "import chess.pgn\n",
    "import io"
   ]
  },
  {
   "cell_type": "code",
   "execution_count": 2,
   "metadata": {},
   "outputs": [],
   "source": [
    "bigfile = open(\"GMallboth.pgn\")\n",
    "full_game_txts=bigfile.read()\n",
    "game_lst=full_game_txts.split(\"\\n\\n\\n\")"
   ]
  },
  {
   "cell_type": "code",
   "execution_count": 3,
   "metadata": {},
   "outputs": [
    {
     "data": {
      "text/plain": [
       "275611"
      ]
     },
     "execution_count": 3,
     "metadata": {},
     "output_type": "execute_result"
    }
   ],
   "source": [
    "len(game_lst)"
   ]
  },
  {
   "cell_type": "code",
   "execution_count": null,
   "metadata": {},
   "outputs": [
    {
     "name": "stdout",
     "output_type": "stream",
     "text": [
      "2020-01-20 00:12:42 : , iteration  0  started,  0.0 %\n",
      "2020-01-20 00:12:43 : , iteration  100  started,  0.0 %\n",
      "2020-01-20 00:12:43 : , iteration  200  started,  0.0 %\n",
      "2020-01-20 00:12:44 : , iteration  300  started,  0.0 %\n",
      "2020-01-20 00:12:44 : , iteration  400  started,  0.0 %\n",
      "2020-01-20 00:12:45 : , iteration  500  started,  0.0 %\n",
      "2020-01-20 00:12:46 : , iteration  600  started,  0.0 %\n",
      "2020-01-20 00:12:46 : , iteration  700  started,  0.0 %\n",
      "2020-01-20 00:12:47 : , iteration  800  started,  0.0 %\n",
      "2020-01-20 00:12:47 : , iteration  900  started,  0.0 %\n",
      "2020-01-20 00:12:48 : , iteration  1000  started,  0.0 %\n",
      "2020-01-20 00:12:49 : , iteration  1100  started,  0.0 %\n",
      "2020-01-20 00:12:50 : , iteration  1200  started,  0.0 %\n",
      "2020-01-20 00:12:51 : , iteration  1300  started,  0.0 %\n",
      "2020-01-20 00:12:51 : , iteration  1400  started,  1.0 %\n",
      "2020-01-20 00:12:52 : , iteration  1500  started,  1.0 %\n",
      "2020-01-20 00:12:53 : , iteration  1600  started,  1.0 %\n",
      "2020-01-20 00:12:54 : , iteration  1700  started,  1.0 %\n",
      "2020-01-20 00:12:55 : , iteration  1800  started,  1.0 %\n",
      "2020-01-20 00:12:56 : , iteration  1900  started,  1.0 %\n",
      "2020-01-20 00:12:56 : , iteration  2000  started,  1.0 %\n",
      "2020-01-20 00:12:58 : , iteration  2100  started,  1.0 %\n",
      "2020-01-20 00:12:59 : , iteration  2200  started,  1.0 %\n",
      "2020-01-20 00:12:59 : , iteration  2300  started,  1.0 %\n",
      "2020-01-20 00:13:00 : , iteration  2400  started,  1.0 %\n",
      "2020-01-20 00:13:01 : , iteration  2500  started,  1.0 %\n",
      "2020-01-20 00:13:02 : , iteration  2600  started,  1.0 %\n",
      "2020-01-20 00:13:03 : , iteration  2700  started,  1.0 %\n",
      "2020-01-20 00:13:04 : , iteration  2800  started,  1.0 %\n",
      "2020-01-20 00:13:05 : , iteration  2900  started,  1.0 %\n",
      "2020-01-20 00:13:05 : , iteration  3000  started,  1.0 %\n",
      "2020-01-20 00:13:06 : , iteration  3100  started,  1.0 %\n",
      "2020-01-20 00:13:07 : , iteration  3200  started,  1.0 %\n",
      "2020-01-20 00:13:08 : , iteration  3300  started,  1.0 %\n",
      "2020-01-20 00:13:08 : , iteration  3400  started,  1.0 %\n",
      "2020-01-20 00:13:09 : , iteration  3500  started,  1.0 %\n",
      "2020-01-20 00:13:09 : , iteration  3600  started,  1.0 %\n",
      "2020-01-20 00:13:10 : , iteration  3700  started,  1.0 %\n",
      "2020-01-20 00:13:11 : , iteration  3800  started,  1.0 %\n",
      "2020-01-20 00:13:11 : , iteration  3900  started,  1.0 %\n",
      "2020-01-20 00:13:12 : , iteration  4000  started,  1.0 %\n",
      "2020-01-20 00:13:12 : , iteration  4100  started,  1.0 %\n",
      "2020-01-20 00:13:14 : , iteration  4200  started,  2.0 %\n",
      "2020-01-20 00:13:14 : , iteration  4300  started,  2.0 %\n",
      "2020-01-20 00:13:15 : , iteration  4400  started,  2.0 %\n",
      "2020-01-20 00:13:15 : , iteration  4500  started,  2.0 %\n",
      "2020-01-20 00:13:16 : , iteration  4600  started,  2.0 %\n",
      "2020-01-20 00:13:16 : , iteration  4700  started,  2.0 %\n",
      "2020-01-20 00:13:17 : , iteration  4800  started,  2.0 %\n",
      "2020-01-20 00:13:17 : , iteration  4900  started,  2.0 %\n",
      "2020-01-20 00:13:18 : , iteration  5000  started,  2.0 %\n",
      "2020-01-20 00:13:18 : , iteration  5100  started,  2.0 %\n",
      "2020-01-20 00:13:19 : , iteration  5200  started,  2.0 %\n",
      "2020-01-20 00:13:19 : , iteration  5300  started,  2.0 %\n",
      "2020-01-20 00:13:21 : , iteration  5400  started,  2.0 %\n",
      "2020-01-20 00:13:21 : , iteration  5500  started,  2.0 %\n",
      "2020-01-20 00:13:22 : , iteration  5600  started,  2.0 %\n",
      "2020-01-20 00:13:22 : , iteration  5700  started,  2.0 %\n",
      "2020-01-20 00:13:23 : , iteration  5800  started,  2.0 %\n",
      "2020-01-20 00:13:23 : , iteration  5900  started,  2.0 %\n",
      "2020-01-20 00:13:23 : , iteration  6000  started,  2.0 %\n",
      "2020-01-20 00:13:24 : , iteration  6100  started,  2.0 %\n",
      "2020-01-20 00:13:24 : , iteration  6200  started,  2.0 %\n",
      "2020-01-20 00:13:25 : , iteration  6300  started,  2.0 %\n",
      "2020-01-20 00:13:25 : , iteration  6400  started,  2.0 %\n",
      "2020-01-20 00:13:26 : , iteration  6500  started,  2.0 %\n",
      "2020-01-20 00:13:26 : , iteration  6600  started,  2.0 %\n",
      "2020-01-20 00:13:27 : , iteration  6700  started,  2.0 %\n",
      "2020-01-20 00:13:29 : , iteration  6800  started,  2.0 %\n",
      "2020-01-20 00:13:29 : , iteration  6900  started,  3.0 %\n",
      "2020-01-20 00:13:29 : , iteration  7000  started,  3.0 %\n",
      "2020-01-20 00:13:30 : , iteration  7100  started,  3.0 %\n",
      "2020-01-20 00:13:30 : , iteration  7200  started,  3.0 %\n",
      "2020-01-20 00:13:31 : , iteration  7300  started,  3.0 %\n",
      "2020-01-20 00:13:31 : , iteration  7400  started,  3.0 %\n",
      "2020-01-20 00:13:32 : , iteration  7500  started,  3.0 %\n",
      "2020-01-20 00:13:32 : , iteration  7600  started,  3.0 %\n",
      "2020-01-20 00:13:33 : , iteration  7700  started,  3.0 %\n",
      "2020-01-20 00:13:33 : , iteration  7800  started,  3.0 %\n",
      "2020-01-20 00:13:34 : , iteration  7900  started,  3.0 %\n",
      "2020-01-20 00:13:34 : , iteration  8000  started,  3.0 %\n",
      "2020-01-20 00:13:35 : , iteration  8100  started,  3.0 %\n",
      "2020-01-20 00:13:35 : , iteration  8200  started,  3.0 %\n",
      "2020-01-20 00:13:36 : , iteration  8300  started,  3.0 %\n",
      "2020-01-20 00:13:37 : , iteration  8400  started,  3.0 %\n",
      "2020-01-20 00:13:37 : , iteration  8500  started,  3.0 %\n",
      "2020-01-20 00:13:39 : , iteration  8600  started,  3.0 %\n",
      "2020-01-20 00:13:39 : , iteration  8700  started,  3.0 %\n",
      "2020-01-20 00:13:40 : , iteration  8800  started,  3.0 %\n",
      "2020-01-20 00:13:40 : , iteration  8900  started,  3.0 %\n",
      "2020-01-20 00:13:41 : , iteration  9000  started,  3.0 %\n",
      "2020-01-20 00:13:42 : , iteration  9100  started,  3.0 %\n",
      "2020-01-20 00:13:42 : , iteration  9200  started,  3.0 %\n",
      "2020-01-20 00:13:43 : , iteration  9300  started,  3.0 %\n",
      "2020-01-20 00:13:43 : , iteration  9400  started,  3.0 %\n",
      "2020-01-20 00:13:44 : , iteration  9500  started,  3.0 %\n",
      "2020-01-20 00:13:44 : , iteration  9600  started,  3.0 %\n",
      "2020-01-20 00:13:45 : , iteration  9700  started,  4.0 %\n",
      "2020-01-20 00:13:45 : , iteration  9800  started,  4.0 %\n",
      "2020-01-20 00:13:46 : , iteration  9900  started,  4.0 %\n",
      "2020-01-20 00:13:46 : , iteration  10000  started,  4.0 %\n",
      "2020-01-20 00:13:47 : , iteration  10100  started,  4.0 %\n",
      "2020-01-20 00:13:47 : , iteration  10200  started,  4.0 %\n",
      "2020-01-20 00:13:48 : , iteration  10300  started,  4.0 %\n",
      "2020-01-20 00:13:48 : , iteration  10400  started,  4.0 %\n",
      "2020-01-20 00:13:49 : , iteration  10500  started,  4.0 %\n",
      "2020-01-20 00:13:50 : , iteration  10600  started,  4.0 %\n",
      "2020-01-20 00:13:52 : , iteration  10700  started,  4.0 %\n",
      "2020-01-20 00:13:53 : , iteration  10800  started,  4.0 %\n",
      "2020-01-20 00:13:53 : , iteration  10900  started,  4.0 %\n",
      "2020-01-20 00:13:54 : , iteration  11000  started,  4.0 %\n",
      "2020-01-20 00:13:54 : , iteration  11100  started,  4.0 %\n",
      "2020-01-20 00:13:55 : , iteration  11200  started,  4.0 %\n",
      "2020-01-20 00:13:55 : , iteration  11300  started,  4.0 %\n",
      "2020-01-20 00:13:56 : , iteration  11400  started,  4.0 %\n",
      "2020-01-20 00:13:56 : , iteration  11500  started,  4.0 %\n",
      "2020-01-20 00:13:57 : , iteration  11600  started,  4.0 %\n",
      "2020-01-20 00:13:57 : , iteration  11700  started,  4.0 %\n",
      "2020-01-20 00:13:58 : , iteration  11800  started,  4.0 %\n",
      "2020-01-20 00:13:58 : , iteration  11900  started,  4.0 %\n",
      "2020-01-20 00:13:59 : , iteration  12000  started,  4.0 %\n",
      "2020-01-20 00:13:59 : , iteration  12100  started,  4.0 %\n",
      "2020-01-20 00:14:00 : , iteration  12200  started,  4.0 %\n",
      "2020-01-20 00:14:00 : , iteration  12300  started,  4.0 %\n",
      "2020-01-20 00:14:01 : , iteration  12400  started,  4.0 %\n",
      "2020-01-20 00:14:02 : , iteration  12500  started,  5.0 %\n",
      "2020-01-20 00:14:02 : , iteration  12600  started,  5.0 %\n",
      "2020-01-20 00:14:03 : , iteration  12700  started,  5.0 %\n",
      "2020-01-20 00:14:03 : , iteration  12800  started,  5.0 %\n",
      "2020-01-20 00:14:04 : , iteration  12900  started,  5.0 %\n",
      "2020-01-20 00:14:04 : , iteration  13000  started,  5.0 %\n",
      "2020-01-20 00:14:05 : , iteration  13100  started,  5.0 %\n",
      "2020-01-20 00:14:05 : , iteration  13200  started,  5.0 %\n",
      "2020-01-20 00:14:06 : , iteration  13300  started,  5.0 %\n",
      "2020-01-20 00:14:06 : , iteration  13400  started,  5.0 %\n",
      "2020-01-20 00:14:09 : , iteration  13500  started,  5.0 %\n",
      "2020-01-20 00:14:10 : , iteration  13600  started,  5.0 %\n",
      "2020-01-20 00:14:10 : , iteration  13700  started,  5.0 %\n",
      "2020-01-20 00:14:11 : , iteration  13800  started,  5.0 %\n",
      "2020-01-20 00:14:12 : , iteration  13900  started,  5.0 %\n",
      "2020-01-20 00:14:12 : , iteration  14000  started,  5.0 %\n",
      "2020-01-20 00:14:13 : , iteration  14100  started,  5.0 %\n",
      "2020-01-20 00:14:13 : , iteration  14200  started,  5.0 %\n",
      "2020-01-20 00:14:14 : , iteration  14300  started,  5.0 %\n"
     ]
    },
    {
     "name": "stdout",
     "output_type": "stream",
     "text": [
      "2020-01-20 00:14:15 : , iteration  14400  started,  5.0 %\n",
      "2020-01-20 00:14:15 : , iteration  14500  started,  5.0 %\n"
     ]
    }
   ],
   "source": [
    "game_pgn=[]\n",
    "i=0\n",
    "for game in game_lst:\n",
    "    now=datetime.datetime.now().strftime('%Y-%m-%d %H:%M:%S')\n",
    "    if (i%100)==0:\n",
    "        print(now, ': , iteration ', i, ' started, ', 100*round(i/len(game_lst),2), '%')\n",
    "    game_pgn.append(chess.pgn.read_game(io.StringIO(game)))\n",
    "    i=i+1"
   ]
  },
  {
   "cell_type": "code",
   "execution_count": 5,
   "metadata": {},
   "outputs": [
    {
     "data": {
      "text/plain": [
       "100"
      ]
     },
     "execution_count": 5,
     "metadata": {},
     "output_type": "execute_result"
    }
   ],
   "source": [
    "len(game_pgn)"
   ]
  },
  {
   "cell_type": "code",
   "execution_count": 6,
   "metadata": {},
   "outputs": [
    {
     "data": {
      "text/plain": [
       "'Andreikin, Dmitry'"
      ]
     },
     "execution_count": 6,
     "metadata": {},
     "output_type": "execute_result"
    }
   ],
   "source": [
    "game_pgn[99].headers[\"White\"]"
   ]
  },
  {
   "cell_type": "code",
   "execution_count": 8,
   "metadata": {},
   "outputs": [
    {
     "data": {
      "text/plain": [
       "'0-1'"
      ]
     },
     "execution_count": 8,
     "metadata": {},
     "output_type": "execute_result"
    }
   ],
   "source": [
    "game_pgn[99].headers[\"Result\"]"
   ]
  },
  {
   "cell_type": "code",
   "execution_count": 9,
   "metadata": {},
   "outputs": [
    {
     "data": {
      "text/plain": [
       "Headers(Event='World Cup', Site='?', Date='2013.08.14', Round='?', White='Robson, Ray', Black='Ivanchuk, Vassily', Result='0-1', BlackElo='2731', ECO='C43', WhiteElo='2623')"
      ]
     },
     "execution_count": 9,
     "metadata": {},
     "output_type": "execute_result"
    }
   ],
   "source": [
    "game_pgn[99].headers"
   ]
  },
  {
   "cell_type": "code",
   "execution_count": null,
   "metadata": {},
   "outputs": [],
   "source": []
  }
 ],
 "metadata": {
  "kernelspec": {
   "display_name": "Python 3",
   "language": "python",
   "name": "python3"
  },
  "language_info": {
   "codemirror_mode": {
    "name": "ipython",
    "version": 3
   },
   "file_extension": ".py",
   "mimetype": "text/x-python",
   "name": "python",
   "nbconvert_exporter": "python",
   "pygments_lexer": "ipython3",
   "version": "3.7.3"
  }
 },
 "nbformat": 4,
 "nbformat_minor": 2
}
